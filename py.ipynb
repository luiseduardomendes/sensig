{
 "cells": [
  {
   "cell_type": "code",
   "execution_count": 23,
   "metadata": {},
   "outputs": [
    {
     "data": {
      "text/plain": [
       "{'size_dataset/fist_closed': 66,\n",
       " 'size_dataset/thumbs_right': 72,\n",
       " 'size_dataset/thumbs_left': 66,\n",
       " 'size_dataset/thumbs_down': 69,\n",
       " 'size_dataset/thumbs_up': 69}"
      ]
     },
     "execution_count": 23,
     "metadata": {},
     "output_type": "execute_result"
    }
   ],
   "source": [
    "from os import listdir\n",
    "from os.path import join\n",
    "\n",
    "folder = 'dataset'\n",
    "\n",
    "subfolders = [join(folder, sub) for sub in listdir(folder)]\n",
    "files = []\n",
    "for subfolder in subfolders:\n",
    "    temp_files = [ join(subfolder, file) for file in listdir(subfolder)]\n",
    "    files.append((subfolder,temp_files))\n",
    "sizes = { f'size_{name}': len(subfolder) for name, subfolder in files }\n",
    "sizes"
   ]
  },
  {
   "cell_type": "code",
   "execution_count": 21,
   "metadata": {},
   "outputs": [
    {
     "data": {
      "text/plain": [
       "66"
      ]
     },
     "execution_count": 21,
     "metadata": {},
     "output_type": "execute_result"
    }
   ],
   "source": [
    "first_key = list(sizes.keys())[0]\n",
    "\n",
    "smaller_size = sizes[first_key]\n",
    "smaller_folder = first_key\n",
    "for size in sizes:\n",
    "    if sizes[size] < smaller_size:\n",
    "        smaller_size = sizes[size]\n",
    "        smaller_folder = size\n",
    "\n",
    "smaller_size"
   ]
  }
 ],
 "metadata": {
  "kernelspec": {
   "display_name": "base",
   "language": "python",
   "name": "python3"
  },
  "language_info": {
   "codemirror_mode": {
    "name": "ipython",
    "version": 3
   },
   "file_extension": ".py",
   "mimetype": "text/x-python",
   "name": "python",
   "nbconvert_exporter": "python",
   "pygments_lexer": "ipython3",
   "version": "3.9.19"
  }
 },
 "nbformat": 4,
 "nbformat_minor": 2
}
